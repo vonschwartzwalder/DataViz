{
 "cells": [
  {
   "cell_type": "markdown",
   "metadata": {
    "Collapsed": "false"
   },
   "source": [
    "# Creating Pandas DataFrames\n",
    "\n",
    "An example"
   ]
  },
  {
   "cell_type": "code",
   "execution_count": 30,
   "metadata": {
    "Collapsed": "false"
   },
   "outputs": [],
   "source": [
    "import pandas as pd\n",
    "import random"
   ]
  },
  {
   "cell_type": "markdown",
   "metadata": {
    "Collapsed": "false"
   },
   "source": [
    "## Create some data"
   ]
  },
  {
   "cell_type": "markdown",
   "metadata": {
    "Collapsed": "false"
   },
   "source": [
    "### list of dictionaries"
   ]
  },
  {
   "cell_type": "code",
   "execution_count": 35,
   "metadata": {
    "Collapsed": "false"
   },
   "outputs": [
    {
     "data": {
      "text/html": [
       "<div>\n",
       "<style scoped>\n",
       "    .dataframe tbody tr th:only-of-type {\n",
       "        vertical-align: middle;\n",
       "    }\n",
       "\n",
       "    .dataframe tbody tr th {\n",
       "        vertical-align: top;\n",
       "    }\n",
       "\n",
       "    .dataframe thead th {\n",
       "        text-align: right;\n",
       "    }\n",
       "</style>\n",
       "<table border=\"1\" class=\"dataframe\">\n",
       "  <thead>\n",
       "    <tr style=\"text-align: right;\">\n",
       "      <th></th>\n",
       "      <th>one</th>\n",
       "      <th>two</th>\n",
       "      <th>three</th>\n",
       "    </tr>\n",
       "  </thead>\n",
       "  <tbody>\n",
       "    <tr>\n",
       "      <th>0</th>\n",
       "      <td>0.245326</td>\n",
       "      <td>-0.993689</td>\n",
       "      <td>3.764358</td>\n",
       "    </tr>\n",
       "    <tr>\n",
       "      <th>1</th>\n",
       "      <td>-0.138059</td>\n",
       "      <td>-1.951641</td>\n",
       "      <td>1.695151</td>\n",
       "    </tr>\n",
       "    <tr>\n",
       "      <th>2</th>\n",
       "      <td>-1.167645</td>\n",
       "      <td>3.476051</td>\n",
       "      <td>-0.973528</td>\n",
       "    </tr>\n",
       "    <tr>\n",
       "      <th>3</th>\n",
       "      <td>1.182326</td>\n",
       "      <td>3.008708</td>\n",
       "      <td>5.848491</td>\n",
       "    </tr>\n",
       "    <tr>\n",
       "      <th>4</th>\n",
       "      <td>2.311775</td>\n",
       "      <td>-0.930342</td>\n",
       "      <td>4.444027</td>\n",
       "    </tr>\n",
       "    <tr>\n",
       "      <th>...</th>\n",
       "      <td>...</td>\n",
       "      <td>...</td>\n",
       "      <td>...</td>\n",
       "    </tr>\n",
       "    <tr>\n",
       "      <th>995</th>\n",
       "      <td>0.203794</td>\n",
       "      <td>2.855078</td>\n",
       "      <td>2.604174</td>\n",
       "    </tr>\n",
       "    <tr>\n",
       "      <th>996</th>\n",
       "      <td>0.679093</td>\n",
       "      <td>2.233270</td>\n",
       "      <td>1.685610</td>\n",
       "    </tr>\n",
       "    <tr>\n",
       "      <th>997</th>\n",
       "      <td>1.237770</td>\n",
       "      <td>1.425145</td>\n",
       "      <td>6.315992</td>\n",
       "    </tr>\n",
       "    <tr>\n",
       "      <th>998</th>\n",
       "      <td>0.362880</td>\n",
       "      <td>1.527220</td>\n",
       "      <td>-0.105737</td>\n",
       "    </tr>\n",
       "    <tr>\n",
       "      <th>999</th>\n",
       "      <td>0.124130</td>\n",
       "      <td>1.452091</td>\n",
       "      <td>0.199877</td>\n",
       "    </tr>\n",
       "  </tbody>\n",
       "</table>\n",
       "<p>1000 rows × 3 columns</p>\n",
       "</div>"
      ],
      "text/plain": [
       "          one       two     three\n",
       "0    0.245326 -0.993689  3.764358\n",
       "1   -0.138059 -1.951641  1.695151\n",
       "2   -1.167645  3.476051 -0.973528\n",
       "3    1.182326  3.008708  5.848491\n",
       "4    2.311775 -0.930342  4.444027\n",
       "..        ...       ...       ...\n",
       "995  0.203794  2.855078  2.604174\n",
       "996  0.679093  2.233270  1.685610\n",
       "997  1.237770  1.425145  6.315992\n",
       "998  0.362880  1.527220 -0.105737\n",
       "999  0.124130  1.452091  0.199877\n",
       "\n",
       "[1000 rows x 3 columns]"
      ]
     },
     "execution_count": 35,
     "metadata": {},
     "output_type": "execute_result"
    }
   ],
   "source": [
    "random.seed(42)\n",
    "list_of_dictionaries = [\n",
    "    {\n",
    "        'one':random.normalvariate(0, 1),\n",
    "        'two':random.normalvariate(0, 2),\n",
    "        'three':random.normalvariate(0, 3)\n",
    "    }\n",
    "for i in range(0, 1000)]\n",
    "\n",
    "list_of_dictionaries_df = pd.DataFrame(list_of_dictionaries)\n",
    "list_of_dictionaries_df"
   ]
  },
  {
   "cell_type": "code",
   "execution_count": 36,
   "metadata": {
    "Collapsed": "false"
   },
   "outputs": [
    {
     "data": {
      "image/png": "[encoded data removed]",
      "text/plain": [
       "<Figure size 432x288 with 1 Axes>"
      ]
     },
     "metadata": {
      "needs_background": "light"
     },
     "output_type": "display_data"
    }
   ],
   "source": [
    "list_of_dictionaries_df.boxplot(grid=False);"
   ]
  },
  {
   "cell_type": "markdown",
   "metadata": {
    "Collapsed": "false"
   },
   "source": [
    "### dictionary of lists"
   ]
  },
  {
   "cell_type": "code",
   "execution_count": 37,
   "metadata": {
    "Collapsed": "false"
   },
   "outputs": [
    {
     "data": {
      "text/html": [
       "<div>\n",
       "<style scoped>\n",
       "    .dataframe tbody tr th:only-of-type {\n",
       "        vertical-align: middle;\n",
       "    }\n",
       "\n",
       "    .dataframe tbody tr th {\n",
       "        vertical-align: top;\n",
       "    }\n",
       "\n",
       "    .dataframe thead th {\n",
       "        text-align: right;\n",
       "    }\n",
       "</style>\n",
       "<table border=\"1\" class=\"dataframe\">\n",
       "  <thead>\n",
       "    <tr style=\"text-align: right;\">\n",
       "      <th></th>\n",
       "      <th>one</th>\n",
       "      <th>two</th>\n",
       "      <th>three</th>\n",
       "    </tr>\n",
       "  </thead>\n",
       "  <tbody>\n",
       "    <tr>\n",
       "      <th>0</th>\n",
       "      <td>0.245326</td>\n",
       "      <td>-0.407917</td>\n",
       "      <td>5.283920</td>\n",
       "    </tr>\n",
       "    <tr>\n",
       "      <th>1</th>\n",
       "      <td>-0.496844</td>\n",
       "      <td>-1.027229</td>\n",
       "      <td>-3.679263</td>\n",
       "    </tr>\n",
       "    <tr>\n",
       "      <th>2</th>\n",
       "      <td>1.254786</td>\n",
       "      <td>-0.851118</td>\n",
       "      <td>-2.014848</td>\n",
       "    </tr>\n",
       "    <tr>\n",
       "      <th>3</th>\n",
       "      <td>-0.138059</td>\n",
       "      <td>-0.876382</td>\n",
       "      <td>4.898378</td>\n",
       "    </tr>\n",
       "    <tr>\n",
       "      <th>4</th>\n",
       "      <td>-0.975820</td>\n",
       "      <td>1.680464</td>\n",
       "      <td>1.216873</td>\n",
       "    </tr>\n",
       "    <tr>\n",
       "      <th>...</th>\n",
       "      <td>...</td>\n",
       "      <td>...</td>\n",
       "      <td>...</td>\n",
       "    </tr>\n",
       "    <tr>\n",
       "      <th>995</th>\n",
       "      <td>0.495315</td>\n",
       "      <td>-1.646282</td>\n",
       "      <td>2.290831</td>\n",
       "    </tr>\n",
       "    <tr>\n",
       "      <th>996</th>\n",
       "      <td>0.015837</td>\n",
       "      <td>3.216741</td>\n",
       "      <td>-0.105737</td>\n",
       "    </tr>\n",
       "    <tr>\n",
       "      <th>997</th>\n",
       "      <td>0.824165</td>\n",
       "      <td>0.378124</td>\n",
       "      <td>0.372391</td>\n",
       "    </tr>\n",
       "    <tr>\n",
       "      <th>998</th>\n",
       "      <td>-0.078504</td>\n",
       "      <td>-1.801188</td>\n",
       "      <td>2.178136</td>\n",
       "    </tr>\n",
       "    <tr>\n",
       "      <th>999</th>\n",
       "      <td>1.371567</td>\n",
       "      <td>-2.427618</td>\n",
       "      <td>0.199877</td>\n",
       "    </tr>\n",
       "  </tbody>\n",
       "</table>\n",
       "<p>1000 rows × 3 columns</p>\n",
       "</div>"
      ],
      "text/plain": [
       "          one       two     three\n",
       "0    0.245326 -0.407917  5.283920\n",
       "1   -0.496844 -1.027229 -3.679263\n",
       "2    1.254786 -0.851118 -2.014848\n",
       "3   -0.138059 -0.876382  4.898378\n",
       "4   -0.975820  1.680464  1.216873\n",
       "..        ...       ...       ...\n",
       "995  0.495315 -1.646282  2.290831\n",
       "996  0.015837  3.216741 -0.105737\n",
       "997  0.824165  0.378124  0.372391\n",
       "998 -0.078504 -1.801188  2.178136\n",
       "999  1.371567 -2.427618  0.199877\n",
       "\n",
       "[1000 rows x 3 columns]"
      ]
     },
     "execution_count": 37,
     "metadata": {},
     "output_type": "execute_result"
    }
   ],
   "source": [
    "random.seed(42)\n",
    "dictionary_of_lists = {\n",
    "    'one':[random.normalvariate(0, 1) for i in range(0, 1000)],\n",
    "    'two': [random.normalvariate(0, 2) for i in range(0, 1000)], \n",
    "    'three':[random.normalvariate(0, 3) for i in range(0, 1000)]\n",
    "}\n",
    "\n",
    "dictionary_of_lists_df = pd.DataFrame(dictionary_of_lists)\n",
    "dictionary_of_lists_df"
   ]
  },
  {
   "cell_type": "code",
   "execution_count": 38,
   "metadata": {
    "Collapsed": "false"
   },
   "outputs": [
    {
     "data": {
      "image/png": "[encoded data removed]",
      "text/plain": [
       "<Figure size 432x288 with 1 Axes>"
      ]
     },
     "metadata": {
      "needs_background": "light"
     },
     "output_type": "display_data"
    }
   ],
   "source": [
    "dictionary_of_lists_df.boxplot(grid=False);"
   ]
  }
 ],
 "metadata": {
  "kernelspec": {
   "display_name": "Python [conda env:root] *",
   "language": "python",
   "name": "conda-root-py"
  },
  "language_info": {
   "codemirror_mode": {
    "name": "ipython",
    "version": 3
   },
   "file_extension": ".py",
   "mimetype": "text/x-python",
   "name": "python",
   "nbconvert_exporter": "python",
   "pygments_lexer": "ipython3",
   "version": "3.7.5"
  }
 },
 "nbformat": 4,
 "nbformat_minor": 4
}
