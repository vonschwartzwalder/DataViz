{
 "cells": [
  {
   "cell_type": "code",
   "execution_count": 34,
   "metadata": {},
   "outputs": [
    {
     "data": {
      "text/html": "<div>\n<style scoped>\n    .dataframe tbody tr th:only-of-type {\n        vertical-align: middle;\n    }\n\n    .dataframe tbody tr th {\n        vertical-align: top;\n    }\n\n    .dataframe thead th {\n        text-align: right;\n    }\n</style>\n<table border=\"1\" class=\"dataframe\">\n  <thead>\n    <tr style=\"text-align: right;\">\n      <th></th>\n      <th>one</th>\n      <th>two</th>\n    </tr>\n  </thead>\n  <tbody>\n    <tr>\n      <th>0</th>\n      <td>a</td>\n      <td>2</td>\n    </tr>\n    <tr>\n      <th>1</th>\n      <td>a</td>\n      <td>4</td>\n    </tr>\n    <tr>\n      <th>2</th>\n      <td>b</td>\n      <td>6</td>\n    </tr>\n    <tr>\n      <th>3</th>\n      <td>b</td>\n      <td>6</td>\n    </tr>\n    <tr>\n      <th>4</th>\n      <td>b</td>\n      <td>10</td>\n    </tr>\n    <tr>\n      <th>5</th>\n      <td>c</td>\n      <td>20</td>\n    </tr>\n    <tr>\n      <th>6</th>\n      <td>c</td>\n      <td>40</td>\n    </tr>\n  </tbody>\n</table>\n</div>",
      "text/plain": "  one  two\n0   a    2\n1   a    4\n2   b    6\n3   b    6\n4   b   10\n5   c   20\n6   c   40"
     },
     "execution_count": 34,
     "metadata": {},
     "output_type": "execute_result"
    }
   ],
   "source": [
    "import pandas as pd\n",
    "import scipy.stats as st\n",
    "\n",
    "# build a dataframe\n",
    "d = {\n",
    "    'one':['a','a','b','b','b','c','c'],\n",
    "    'two':[2,4,6,6,10,20,40]\n",
    "}\n",
    "\n",
    "df = pd.DataFrame(d)\n",
    "df"
   ]
  },
  {
   "cell_type": "code",
   "execution_count": 35,
   "metadata": {},
   "outputs": [],
   "source": [
    "# group by the 'one' colume\n",
    "gdf = df.groupby('one')"
   ]
  },
  {
   "cell_type": "code",
   "execution_count": 36,
   "metadata": {},
   "outputs": [
    {
     "data": {
      "text/html": "<div>\n<style scoped>\n    .dataframe tbody tr th:only-of-type {\n        vertical-align: middle;\n    }\n\n    .dataframe tbody tr th {\n        vertical-align: top;\n    }\n\n    .dataframe thead th {\n        text-align: right;\n    }\n</style>\n<table border=\"1\" class=\"dataframe\">\n  <thead>\n    <tr style=\"text-align: right;\">\n      <th></th>\n      <th>count</th>\n      <th>min</th>\n      <th>mean</th>\n      <th>max</th>\n      <th>median</th>\n      <th>mode</th>\n      <th>var</th>\n      <th>std</th>\n      <th>sem</th>\n    </tr>\n    <tr>\n      <th>one</th>\n      <th></th>\n      <th></th>\n      <th></th>\n      <th></th>\n      <th></th>\n      <th></th>\n      <th></th>\n      <th></th>\n      <th></th>\n    </tr>\n  </thead>\n  <tbody>\n    <tr>\n      <th>a</th>\n      <td>2</td>\n      <td>2</td>\n      <td>3.00</td>\n      <td>4</td>\n      <td>3</td>\n      <td>2</td>\n      <td>2.00</td>\n      <td>1.41</td>\n      <td>1.00</td>\n    </tr>\n    <tr>\n      <th>b</th>\n      <td>3</td>\n      <td>6</td>\n      <td>7.33</td>\n      <td>10</td>\n      <td>6</td>\n      <td>6</td>\n      <td>5.33</td>\n      <td>2.31</td>\n      <td>1.33</td>\n    </tr>\n    <tr>\n      <th>c</th>\n      <td>2</td>\n      <td>20</td>\n      <td>30.00</td>\n      <td>40</td>\n      <td>30</td>\n      <td>20</td>\n      <td>200.00</td>\n      <td>14.14</td>\n      <td>10.00</td>\n    </tr>\n  </tbody>\n</table>\n</div>",
      "text/plain": "     count  min   mean  max  median  mode     var    std    sem\none                                                            \na        2    2   3.00    4       3     2    2.00   1.41   1.00\nb        3    6   7.33   10       6     6    5.33   2.31   1.33\nc        2   20  30.00   40      30    20  200.00  14.14  10.00"
     },
     "execution_count": 36,
     "metadata": {},
     "output_type": "execute_result"
    }
   ],
   "source": [
    "# summary statistics\n",
    "\n",
    "# mode function for apply\n",
    "def mymode(d):\n",
    "    return(st.mode(d).mode[0][0])\n",
    "\n",
    "# create dataframe   \n",
    "ndf = pd.DataFrame(gdf.count())\n",
    "ndf.rename(columns={'two':'count'}, inplace=True)\n",
    "ndf['min'] = gdf.min()\n",
    "ndf['mean'] = round(gdf.mean(),2)\n",
    "ndf['max'] = gdf.max()\n",
    "ndf['median'] = gdf.median()\n",
    "ndf['mode'] = gdf.apply(mymode)\n",
    "ndf['var'] = round(gdf.var(),2)\n",
    "ndf['std'] = round(gdf.std(),2)\n",
    "ndf['sem'] = round(gdf.sem(),2)\n",
    "ndf"
   ]
  }
 ],
 "metadata": {
  "kernelspec": {
   "display_name": "Python 3",
   "language": "python",
   "name": "python3"
  },
  "language_info": {
   "codemirror_mode": {
    "name": "ipython",
    "version": 3
   },
   "file_extension": ".py",
   "mimetype": "text/x-python",
   "name": "python",
   "nbconvert_exporter": "python",
   "pygments_lexer": "ipython3",
   "version": "3.7.3-final"
  }
 },
 "nbformat": 4,
 "nbformat_minor": 2
}