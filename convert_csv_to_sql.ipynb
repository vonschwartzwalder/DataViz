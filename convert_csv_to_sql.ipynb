{
 "cells": [
  {
   "cell_type": "markdown",
   "metadata": {
    "Collapsed": "false"
   },
   "source": [
    "# Convert birdsong.csv to SQL"
   ]
  },
  {
   "cell_type": "code",
   "execution_count": 12,
   "metadata": {
    "Collapsed": "false"
   },
   "outputs": [],
   "source": [
    "# imports\n",
    "import pandas as pd\n",
    "import os"
   ]
  },
  {
   "cell_type": "markdown",
   "metadata": {
    "Collapsed": "false"
   },
   "source": [
    "## Set the table name\n",
    "\n",
    "It as assumed that the input CSV is named this, with a '.csv' extension."
   ]
  },
  {
   "cell_type": "code",
   "execution_count": 13,
   "metadata": {
    "Collapsed": "false"
   },
   "outputs": [],
   "source": [
    "table = 'WordAssociation_BC'"
   ]
  },
  {
   "cell_type": "markdown",
   "metadata": {
    "Collapsed": "false"
   },
   "source": [
    "## Read the CSV"
   ]
  },
  {
   "cell_type": "code",
   "execution_count": 14,
   "metadata": {
    "Collapsed": "false"
   },
   "outputs": [],
   "source": [
    "# read CSV\n",
    "filename = table + '.csv'\n",
    "data_df = pd.read_csv(filename)"
   ]
  },
  {
   "cell_type": "code",
   "execution_count": 15,
   "metadata": {
    "Collapsed": "false"
   },
   "outputs": [
    {
     "data": {
      "text/html": [
       "<div>\n",
       "<style scoped>\n",
       "    .dataframe tbody tr th:only-of-type {\n",
       "        vertical-align: middle;\n",
       "    }\n",
       "\n",
       "    .dataframe tbody tr th {\n",
       "        vertical-align: top;\n",
       "    }\n",
       "\n",
       "    .dataframe thead th {\n",
       "        text-align: right;\n",
       "    }\n",
       "</style>\n",
       "<table border=\"1\" class=\"dataframe\">\n",
       "  <thead>\n",
       "    <tr style=\"text-align: right;\">\n",
       "      <th></th>\n",
       "      <th>author</th>\n",
       "      <th>word1</th>\n",
       "      <th>word2</th>\n",
       "      <th>source</th>\n",
       "    </tr>\n",
       "  </thead>\n",
       "  <tbody>\n",
       "    <tr>\n",
       "      <th>0</th>\n",
       "      <td>390</td>\n",
       "      <td>substantiate</td>\n",
       "      <td>authenticate</td>\n",
       "      <td>BC</td>\n",
       "    </tr>\n",
       "    <tr>\n",
       "      <th>1</th>\n",
       "      <td>663</td>\n",
       "      <td>speed limit</td>\n",
       "      <td>laws</td>\n",
       "      <td>BC</td>\n",
       "    </tr>\n",
       "    <tr>\n",
       "      <th>2</th>\n",
       "      <td>331</td>\n",
       "      <td>britches</td>\n",
       "      <td>buckle</td>\n",
       "      <td>BC</td>\n",
       "    </tr>\n",
       "    <tr>\n",
       "      <th>3</th>\n",
       "      <td>341</td>\n",
       "      <td>tatonka</td>\n",
       "      <td>tonka</td>\n",
       "      <td>BC</td>\n",
       "    </tr>\n",
       "    <tr>\n",
       "      <th>4</th>\n",
       "      <td>635</td>\n",
       "      <td>evidence</td>\n",
       "      <td>deed</td>\n",
       "      <td>BC</td>\n",
       "    </tr>\n",
       "  </tbody>\n",
       "</table>\n",
       "</div>"
      ],
      "text/plain": [
       "   author         word1         word2 source\n",
       "0     390  substantiate  authenticate     BC\n",
       "1     663   speed limit          laws     BC\n",
       "2     331      britches        buckle     BC\n",
       "3     341       tatonka         tonka     BC\n",
       "4     635      evidence          deed     BC"
      ]
     },
     "execution_count": 15,
     "metadata": {},
     "output_type": "execute_result"
    }
   ],
   "source": [
    "data_df.head()"
   ]
  },
  {
   "cell_type": "markdown",
   "metadata": {
    "Collapsed": "false"
   },
   "source": [
    "## Convert the DataFrame to SQL\n",
    "\n",
    "Quote everything because the database will do the type conversion."
   ]
  },
  {
   "cell_type": "code",
   "execution_count": 16,
   "metadata": {
    "Collapsed": "false"
   },
   "outputs": [],
   "source": [
    "# create SQL\n",
    "rows = len(data_df)\n",
    "lines = []\n",
    "\n",
    "# header \n",
    "header = str(list(data_df.columns)).replace('[','').replace(']','').replace(\"'\",'')\n",
    "lines.append(f'-- Insert data into the table\\n')\n",
    "lines.append(f'INSERT INTO birdsong ({header})\\n')\n",
    "lines.append(f'VALUES\\n')\n",
    "\n",
    "# for each row in the dataframe\n",
    "for (i, row) in data_df.iterrows():\n",
    "    \n",
    "    # start line\n",
    "    line = '('\n",
    "    \n",
    "    # add each column in this row\n",
    "    for j in range(len(row)):\n",
    "        if j < len(row)-1:\n",
    "            line += '\\'' + str(row[j]) + '\\','\n",
    "        else:\n",
    "            line += '\\'' + str(row[j]) + '\\''\n",
    "                \n",
    "    # finish line\n",
    "    if i < rows-1:\n",
    "        # append ',' and end line\n",
    "        line += '),\\n'\n",
    "    else:\n",
    "        # append ';' and end line\n",
    "        line += ');\\n'\n",
    "        \n",
    "    # add line to lines\n",
    "    lines.append(line)\n"
   ]
  },
  {
   "cell_type": "markdown",
   "metadata": {
    "Collapsed": "false"
   },
   "source": [
    "## Write the SQL to a file\n",
    "\n",
    "We will use the table name + a '.sql' extension."
   ]
  },
  {
   "cell_type": "code",
   "execution_count": 17,
   "metadata": {
    "Collapsed": "false"
   },
   "outputs": [],
   "source": [
    "# write lines to file\n",
    "with open(table + '.sql', 'w') as out:\n",
    "    out.writelines(lines)"
   ]
  }
 ],
 "metadata": {
  "kernelspec": {
   "display_name": "Python [conda env:root] *",
   "language": "python",
   "name": "conda-root-py"
  },
  "language_info": {
   "codemirror_mode": {
    "name": "ipython",
    "version": 3
   },
   "file_extension": ".py",
   "mimetype": "text/x-python",
   "name": "python",
   "nbconvert_exporter": "python",
   "pygments_lexer": "ipython3",
   "version": "3.7.6"
  }
 },
 "nbformat": 4,
 "nbformat_minor": 4
}
